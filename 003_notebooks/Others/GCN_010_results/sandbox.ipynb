{
 "cells": [
  {
   "cell_type": "code",
   "execution_count": 1,
   "id": "2e8aa5dd",
   "metadata": {},
   "outputs": [
    {
     "name": "stdout",
     "output_type": "stream",
     "text": [
      "----------------------------------------\n",
      "Packages import successful\n",
      "Variables import successful\n",
      "Helper Functions import successful\n",
      "Functions import successful\n",
      "Functions xml import successful\n",
      "Functions graph import successful\n",
      "Functions GCN import successful\n",
      "Functions Plotting import successful\n",
      "Functions Data Adjustments import successful\n",
      "----------------------------------------\n",
      "root directory: /storage/remote/atcremers50/ss21_multiagentcontrol/\n",
      "input directory: /storage/remote/atcremers50/ss21_multiagentcontrol/004_data/\n",
      "output directory: /storage/remote/atcremers50/ss21_multiagentcontrol/006_model_output/\n",
      "----------------------------------------\n",
      "\n",
      "----------------------------------------\n",
      "root directory: /storage/remote/atcremers50/ss21_multiagentcontrol/\n",
      "input directory: /storage/remote/atcremers50/ss21_multiagentcontrol/004_data/\n",
      "output directory: /storage/remote/atcremers50/ss21_multiagentcontrol/006_model_output/\n",
      "----------------------------------------\n",
      "\n",
      "/usr/prakt/s0014/anaconda3/envs/p37_GCN_GPU\n",
      "CUDA available\n",
      "Number of Devices: 1\n",
      "ID current Device NVIDIA GeForce GTX 1050 Ti: 0\n",
      "\tcurrent GPU memory usage by tensors in bytes:0\n",
      "\tcurrent GPU memory managed by caching allocator in bytes:0\n"
     ]
    }
   ],
   "source": [
    "#--------------------------------\n",
    "## IMPORTS\n",
    "#--------------------------------\n",
    "import sys\n",
    "import os\n",
    "\n",
    "# set the path to find the modules\n",
    "os.chdir(\"../../005_src\")\n",
    "\n",
    "from config import *\n",
    "#from _03_Networks.GCN_010.GCN_parameters_010 import *\n",
    "print (os.getenv('CONDA_PREFIX'))\n",
    "device = cudaOverview()"
   ]
  },
  {
   "cell_type": "code",
   "execution_count": null,
   "id": "cf5b4155",
   "metadata": {},
   "outputs": [],
   "source": []
  },
  {
   "cell_type": "code",
   "execution_count": null,
   "id": "a5c16887",
   "metadata": {},
   "outputs": [],
   "source": []
  },
  {
   "cell_type": "code",
   "execution_count": null,
   "id": "b28bf4b7",
   "metadata": {},
   "outputs": [],
   "source": []
  }
 ],
 "metadata": {
  "kernelspec": {
   "display_name": "Python 3",
   "language": "python",
   "name": "python3"
  },
  "language_info": {
   "codemirror_mode": {
    "name": "ipython",
    "version": 3
   },
   "file_extension": ".py",
   "mimetype": "text/x-python",
   "name": "python",
   "nbconvert_exporter": "python",
   "pygments_lexer": "ipython3",
   "version": "3.8.8"
  }
 },
 "nbformat": 4,
 "nbformat_minor": 5
}
