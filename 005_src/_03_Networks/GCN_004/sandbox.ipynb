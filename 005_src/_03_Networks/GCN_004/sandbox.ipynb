{
 "cells": [
  {
   "cell_type": "code",
   "execution_count": 4,
   "id": "b785d3d9",
   "metadata": {},
   "outputs": [
    {
     "data": {
      "text/plain": [
       "'GCN_004'"
      ]
     },
     "execution_count": 4,
     "metadata": {},
     "output_type": "execute_result"
    }
   ],
   "source": [
    "import os\n",
    "os.path.split(os.getcwd())[1]"
   ]
  },
  {
   "cell_type": "code",
   "execution_count": 8,
   "id": "e1f7a0ad",
   "metadata": {},
   "outputs": [
    {
     "data": {
      "text/plain": [
       "'GCN_004'"
      ]
     },
     "execution_count": 8,
     "metadata": {},
     "output_type": "execute_result"
    }
   ],
   "source": [
    "os.path.split(os.getcwd())[1]"
   ]
  },
  {
   "cell_type": "code",
   "execution_count": 9,
   "id": "19b412ad",
   "metadata": {},
   "outputs": [
    {
     "data": {
      "text/plain": [
       "'this_i_want'"
      ]
     },
     "execution_count": 9,
     "metadata": {},
     "output_type": "execute_result"
    }
   ],
   "source": [
    "testpath = \"lev1/lev2/lev3/this_i_want/lev4.py\"\n",
    "os.path.split(os.path.split(testpath)[0])[1]"
   ]
  },
  {
   "cell_type": "code",
   "execution_count": null,
   "id": "f4e1f978",
   "metadata": {},
   "outputs": [],
   "source": []
  }
 ],
 "metadata": {
  "kernelspec": {
   "display_name": "Python 3",
   "language": "python",
   "name": "python3"
  },
  "language_info": {
   "codemirror_mode": {
    "name": "ipython",
    "version": 3
   },
   "file_extension": ".py",
   "mimetype": "text/x-python",
   "name": "python",
   "nbconvert_exporter": "python",
   "pygments_lexer": "ipython3",
   "version": "3.8.8"
  }
 },
 "nbformat": 4,
 "nbformat_minor": 5
}
