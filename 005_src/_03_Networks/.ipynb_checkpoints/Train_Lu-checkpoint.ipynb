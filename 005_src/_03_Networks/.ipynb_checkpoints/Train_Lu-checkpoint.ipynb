{
 "cells": [
  {
   "cell_type": "code",
   "execution_count": null,
   "id": "72a67b86",
   "metadata": {},
   "outputs": [],
   "source": [
    "#--------------------------------\n",
    "## IMPORTS\n",
    "#--------------------------------\n",
    "import sys\n",
    "import os\n",
    "\n",
    "# set the path to find the modules\n",
    "sys.path.insert(0, '../005_src/') #use relative path\n",
    "#os.chdir(\"../005_src\")\n",
    "\n",
    "from config import *"
   ]
  },
  {
   "cell_type": "code",
   "execution_count": null,
   "id": "3cf36458",
   "metadata": {},
   "outputs": [],
   "source": [
    "device = cudaOverview()"
   ]
  },
  {
   "cell_type": "code",
   "execution_count": null,
   "id": "2de1f575",
   "metadata": {},
   "outputs": [],
   "source": [
    "from _03_Networks.GCN_006.GCN_model_006 import *\n",
    "check_import()\n",
    "from _03_Networks.GCN_006.GCN_trainer_006 import *\n",
    "this_GCN, ts = check_import()\n",
    "this_date = get_date()"
   ]
  },
  {
   "cell_type": "code",
   "execution_count": null,
   "id": "50ba20c7",
   "metadata": {},
   "outputs": [],
   "source": [
    "##================================\n",
    "## INIT SAVING PATHS\n",
    "##================================\n",
    "\n",
    "MODEL_OUTPUT_PATH = os.path.join(OUTPUT_DIR,f\"{this_GCN}/\")\n",
    "MODEL_OUTPUT_PATH_TODAY = os.path.join(MODEL_OUTPUT_PATH,f\"{this_date}{ts}/\")\n",
    "print (MODEL_OUTPUT_PATH_TODAY)\n",
    "if not os.path.exists(MODEL_OUTPUT_PATH_TODAY):\n",
    "    Path(MODEL_OUTPUT_PATH_TODAY).mkdir(parents=True, exist_ok=True)\n",
    "    \n",
    "dict_text_output = {}"
   ]
  },
  {
   "cell_type": "code",
   "execution_count": null,
   "id": "9219ada2",
   "metadata": {},
   "outputs": [],
   "source": [
    "##================================\n",
    "## MODEL VAR\n",
    "##================================\n",
    "\n",
    "random_seed = 42\n",
    "train_size = 0.9  \n",
    "batch_size = 256 # maybe 100 is too much...\n",
    "\n",
    "Nepochs =10\n",
    "savestat = True\n",
    "intentionstat = True\n",
    "save_every = int(Nepochs/2) # temp pkl, pt, png, can delete after final is stored\n",
    "transformstat = False\n",
    "plotstat = True\n",
    "printstat = True\n",
    "\n",
    "training_losses = []\n",
    "validation_losses = []\n",
    "lr_rates = []\n",
    "\n",
    "# create keys and values for all the stuff that you want later on print out in txt files\n",
    "dict_text_output.update({\n",
    "                    'run_time':ts,\n",
    "                    'model': this_GCN,\n",
    "                    'random_seed': random_seed,\n",
    "                    'train_size':train_size,\n",
    "                    'batch_size': batch_size,\n",
    "                    'Nepochs': Nepochs,\n",
    "                    'save_every':save_every, \n",
    "                    'transformstat': transformstat,\n",
    "                    'plotstat': plotstat,\n",
    "                    'printstat' : printstat,\n",
    "                    'intentionstat':intentionstat\n",
    "    \n",
    "                    })\n"
   ]
  },
  {
   "cell_type": "code",
   "execution_count": null,
   "id": "f61de873",
   "metadata": {},
   "outputs": [],
   "source": [
    "##================================\n",
    "## LOAD DATA\n",
    "##================================\n",
    "input_file_name = \"20210710-13h21m45s_timesteps15000_ec3500_em7000\"\n",
    "dict_text_output[\"input_file_name\"] = input_file_name\n",
    "\n",
    "txt_data = os.path.join(GCN_INPUT_FOLDER,f\"{input_file_name}.txt\")\n",
    "dict_text_data = read_txt_data(txt_data)\n",
    "\n",
    "dict_text_output['input_file_name'] = input_file_name"
   ]
  },
  {
   "cell_type": "code",
   "execution_count": null,
   "id": "f183acbd",
   "metadata": {},
   "outputs": [],
   "source": [
    "##if plotstat:\n",
    "#path_figure = read_txt_data(dict_text_data['info_input_df'])[\"path_figure\"]\n",
    "#Image(open(f'{path_figure}','rb').read())"
   ]
  },
  {
   "cell_type": "code",
   "execution_count": null,
   "id": "89a73d43",
   "metadata": {},
   "outputs": [],
   "source": []
  }
 ],
 "metadata": {
  "kernelspec": {
   "display_name": "Python 3",
   "language": "python",
   "name": "python3"
  },
  "language_info": {
   "codemirror_mode": {
    "name": "ipython",
    "version": 3
   },
   "file_extension": ".py",
   "mimetype": "text/x-python",
   "name": "python",
   "nbconvert_exporter": "python",
   "pygments_lexer": "ipython3",
   "version": "3.8.8"
  }
 },
 "nbformat": 4,
 "nbformat_minor": 5
}
