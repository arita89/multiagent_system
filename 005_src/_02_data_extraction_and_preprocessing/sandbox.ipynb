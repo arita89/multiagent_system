{
 "cells": [
  {
   "cell_type": "code",
   "execution_count": 3,
   "id": "66214823",
   "metadata": {},
   "outputs": [],
   "source": [
    "#--------------------------------\n",
    "## IMPORTS\n",
    "#--------------------------------\n",
    "import sys\n",
    "import os\n",
    "\n",
    "# set the path to find the modules\n",
    "sys.path.insert(0, '../') #use relative path\n",
    "os.chdir(\"../\")\n",
    "\n",
    "from config import *\n"
   ]
  },
  {
   "cell_type": "code",
   "execution_count": 7,
   "id": "5253e76a",
   "metadata": {},
   "outputs": [
    {
     "data": {
      "text/plain": [
       "15500"
      ]
     },
     "execution_count": 7,
     "metadata": {},
     "output_type": "execute_result"
    }
   ],
   "source": [
    "txt_data = \"../004_data/dataframes/df_sim_000010.txt\"\n",
    "d = read_txt_data(txt_data, split_char = \": \")\n",
    "int(d['sim_duration_timesteps'])"
   ]
  },
  {
   "cell_type": "code",
   "execution_count": 17,
   "id": "5ec4125f",
   "metadata": {},
   "outputs": [],
   "source": [
    "def xml_to_dict(xml_data):\n",
    "    \"\"\"\n",
    "    read the xml output into a dictionary\n",
    "    \"\"\"\n",
    "    etree = ET.parse(xml_data)\n",
    "    list_of_dictionaries = []\n",
    "    for e in etree.iter(\"timestep\"):\n",
    "        row_dict = {k:v for k,v in e.attrib.items()}\n",
    "        # print (f\"\\ntime step {row_dict.values()} ------------------------------\")\n",
    "        for sub_e in e:\n",
    "           # print (\"\")\n",
    "            # print (sub_e.attrib)\n",
    "            row_dict = {k:v for k,v in e.attrib.items()}\n",
    "            row_dict_parameters = {k:v for k,v in sub_e.attrib.items()}\n",
    "            row_dict.update(row_dict_parameters)\n",
    "            print (row_dict)\n",
    "            list_of_dictionaries.append(row_dict)\n",
    "     \n",
    "    full_dict = {}\n",
    "    for d in list_of_dictionaries:\n",
    "        full_dict.update(d)\n",
    "    return full_dict"
   ]
  },
  {
   "cell_type": "code",
   "execution_count": 20,
   "id": "66935757",
   "metadata": {},
   "outputs": [
    {
     "name": "stdout",
     "output_type": "stream",
     "text": [
      "10\n"
     ]
    }
   ],
   "source": [
    "conf_ID = int(input())\n",
    "conf_ID = '%03d' %conf_ID\n",
    "route_file = f\"../004_data/cross_{conf_ID}/cross.rou.xml\""
   ]
  },
  {
   "cell_type": "code",
   "execution_count": 21,
   "id": "36d5f4d6",
   "metadata": {},
   "outputs": [
    {
     "data": {
      "text/plain": [
       "{}"
      ]
     },
     "execution_count": 21,
     "metadata": {},
     "output_type": "execute_result"
    }
   ],
   "source": [
    "d = xml_to_dict(route_file)\n",
    "d"
   ]
  },
  {
   "cell_type": "code",
   "execution_count": null,
   "id": "8b9303c6",
   "metadata": {},
   "outputs": [],
   "source": []
  }
 ],
 "metadata": {
  "kernelspec": {
   "display_name": "Python 3",
   "language": "python",
   "name": "python3"
  },
  "language_info": {
   "codemirror_mode": {
    "name": "ipython",
    "version": 3
   },
   "file_extension": ".py",
   "mimetype": "text/x-python",
   "name": "python",
   "nbconvert_exporter": "python",
   "pygments_lexer": "ipython3",
   "version": "3.8.8"
  }
 },
 "nbformat": 4,
 "nbformat_minor": 5
}
